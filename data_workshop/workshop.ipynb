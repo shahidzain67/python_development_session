{
 "cells": [
  {
   "cell_type": "markdown",
   "metadata": {},
   "source": [
    "# Python Workshop 1\n",
    "\n",
    "## Steps\n",
    "1. Open a github repository (locally or in gitpod.io)\n",
    "2. Create a branch\n",
    "3. Make commits\n",
    "4. Create a pull request"
   ]
  },
  {
   "cell_type": "markdown",
   "metadata": {},
   "source": [
    "# Workshop"
   ]
  },
  {
   "cell_type": "markdown",
   "metadata": {},
   "source": [
    "## Install any libraries that aren't currently present using pip\n",
    "Copy and paste this code into the terminal at the bottom of the screen and hit enter\n",
    "\n",
    "```pip install pandasql```"
   ]
  },
  {
   "cell_type": "code",
   "execution_count": null,
   "metadata": {},
   "outputs": [],
   "source": [
    "# Import pandas and relevant libraries\n",
    "import \n",
    "from pandasql import sqldf\n",
    "import matplotlib.pyplot as plt\n",
    "\n",
    "# Read the csv file titanic.csv\n",
    "titanic = pd.\n",
    "\n",
    "# Check the contents\n",
    "titanic.head()"
   ]
  },
  {
   "cell_type": "code",
   "execution_count": null,
   "metadata": {},
   "outputs": [],
   "source": [
    "# Remove NaN values\n",
    "cleaned_titanic = \n",
    "\n",
    "# Check the contents of the new dataframe\n"
   ]
  },
  {
   "cell_type": "code",
   "execution_count": null,
   "metadata": {},
   "outputs": [],
   "source": [
    "# Analaysis time! Draw out some info\n",
    "# E.g. Create a dataframe which contains a few columns\n",
    "age_Pclass = cleaned_titanic[[\"Age\", \"Pclass\"]]\n",
    "\n",
    "# Check the contents of the new dataframe\n",
    "\n",
    "\n",
    "# Chart it!\n",
    "plt.plot(age_Pclass[\"Age\"], age_Pclass[\"Pclass\"])"
   ]
  },
  {
   "cell_type": "code",
   "execution_count": null,
   "metadata": {},
   "outputs": [],
   "source": [
    "# This chart doesn't show any meaningful info. \n",
    "# We can use queries as we would in Databricks to get meaningful data to chart\n",
    "\n",
    "# Query the dataframe\n",
    "survival_per_class = sqldf('''\n",
    "\n",
    "''')\n",
    "\n",
    "# Check the contents of the new dataframe\n",
    "\n",
    "\n",
    "# Chart it!\n",
    "plt.bar(survival_per_class[\"Pclass\"], survival_per_class[\"survived\"])"
   ]
  },
  {
   "cell_type": "markdown",
   "metadata": {},
   "source": [
    "Try out some more charts here: https://www.w3schools.com/python/matplotlib_bars.asp"
   ]
  }
 ],
 "metadata": {
  "language_info": {
   "name": "python"
  }
 },
 "nbformat": 4,
 "nbformat_minor": 2
}
